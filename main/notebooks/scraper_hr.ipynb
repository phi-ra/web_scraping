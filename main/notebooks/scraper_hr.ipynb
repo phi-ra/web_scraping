{
 "cells": [
  {
   "cell_type": "markdown",
   "metadata": {},
   "source": [
    "# Crawling the Central Business Index\n",
    "\n",
    "This notebook contains the sample usage for crawling the [Central Business Index](https://www.zefix.ch/en/search). The basic idea is to extract:\n",
    "\n",
    "* The UID (id for each firm)\n",
    "* The name of the firm\n",
    "* The revisor\n",
    "* Members of the board, their functions and the history of the board\n",
    "\n",
    "With the data we can then construct a network of firms, their boards and revisors to find how the market is linked between them. Maybe we can find some sort of systemic risk?"
   ]
  },
  {
   "cell_type": "code",
   "execution_count": null,
   "metadata": {},
   "outputs": [],
   "source": [
    "# General Stuff\n",
    "import os\n",
    "import gc\n",
    "import pandas as pd\n",
    "import numpy as np\n",
    "import time\n",
    "import sys\n",
    "\n",
    "# Scraping\n",
    "from selenium import webdriver\n",
    "from selenium.webdriver.chrome.options import Options\n",
    "from requests import get\n",
    "from requests.exceptions import RequestException\n",
    "\n",
    "# Parsing\n",
    "import re\n",
    "from bs4 import BeautifulSoup\n",
    "\n",
    "# Chrome & Driver params\n",
    "CHROME_PATH = '/Applications/Google Chrome.app/Contents/MacOS/Google Chrome'\n",
    "CHROMEDRIVER_PATH = '../../chromedriver'\n",
    "\n",
    "# Custom \n",
    "sys.path.append('../utils/')\n",
    "from utils_scraping import extract_html"
   ]
  },
  {
   "cell_type": "code",
   "execution_count": null,
   "metadata": {},
   "outputs": [],
   "source": [
    "test_url = 'https://www.zefix.ch/de/search/entity/list/firm/1150001?name=Schweizerisch%20-%20Polnische%20Wirtschaftskammer%20PolChamber&searchType=exact'"
   ]
  },
  {
   "cell_type": "code",
   "execution_count": null,
   "metadata": {},
   "outputs": [],
   "source": [
    "# Define options (ie. headlessness)\n",
    "chrome_options = Options()  \n",
    "chrome_options.add_argument(\"--headless\")  \n",
    "chrome_options.binary_location = CHROME_PATH"
   ]
  },
  {
   "cell_type": "code",
   "execution_count": null,
   "metadata": {},
   "outputs": [],
   "source": [
    "html = extract_html(driver_path=CHROMEDRIVER_PATH, driver_options=chrome_options,\n",
    "            url=test_url)"
   ]
  },
  {
   "cell_type": "code",
   "execution_count": null,
   "metadata": {},
   "outputs": [],
   "source": [
    "html"
   ]
  },
  {
   "cell_type": "code",
   "execution_count": null,
   "metadata": {},
   "outputs": [],
   "source": [
    "soup = BeautifulSoup(html, 'html.parser')"
   ]
  },
  {
   "cell_type": "code",
   "execution_count": null,
   "metadata": {},
   "outputs": [],
   "source": [
    "firmContent = soup.find('div', {'ng-show': 'firm.details.name'})"
   ]
  },
  {
   "cell_type": "code",
   "execution_count": null,
   "metadata": {},
   "outputs": [],
   "source": [
    "wantItems = ['Revisionsstelle/n:', 'UID:']"
   ]
  },
  {
   "cell_type": "code",
   "execution_count": null,
   "metadata": {},
   "outputs": [],
   "source": [
    "contentDelimiters = re.compile(r'>(.*?)<')"
   ]
  },
  {
   "cell_type": "code",
   "execution_count": null,
   "metadata": {},
   "outputs": [],
   "source": [
    "for item in firmContent.find_all('tr'):\n",
    "    for nameItem in item.find_all('td', {'class': 'ng-binding'}):\n",
    "        iterTerm = re.findall(contentDelimiters, str(nameItem))[0]\n",
    "        \n",
    "        if iterTerm in wantItems:\n",
    "            for webItem in item.find_all('span', {'class': 'ng-binding'}):\n",
    "                webIter = re.findall(contentDelimiters, str(webItem))[0]\n",
    "                print(iterTerm, webIter)\n",
    "        "
   ]
  },
  {
   "cell_type": "code",
   "execution_count": null,
   "metadata": {},
   "outputs": [],
   "source": [
    "for item in firmContent.find_all('strong'):\n",
    "    firmName = re.findall(contentDelimiters, str(item))[0]\n",
    "    print(firmName)"
   ]
  },
  {
   "cell_type": "code",
   "execution_count": null,
   "metadata": {},
   "outputs": [],
   "source": [
    "for item in firmContent.find_all('span', {'ng-repeat': \"translation in firm.translation\"}):\n",
    "    otherNames = re.findall(contentDelimiters, str(item))[0]\n",
    "    print(otherNames)"
   ]
  },
  {
   "cell_type": "code",
   "execution_count": null,
   "metadata": {},
   "outputs": [],
   "source": [
    "# Shap entries\n",
    "for item in firmContent.find_all('section', {'id': 'firm-shab-entries'}):\n",
    "    for iterItem in item.find_all('div', {'ng-repeat': \"entry in firm.details.shabPub | orderBy : '-shabDate'\"}):\n",
    "        #print(iterItem.prettify())\n",
    "        ort = re.findall(contentDelimiters, str(iterItem.find('span', {'class': \"visible-xs ng-binding\"})))[0]\n",
    "        #print(ort.strip())\n",
    "        shapEntry = re.findall('(SHAB:.*?)<', str(iterItem))[0]\n",
    "        #print(shapEntry)\n",
    "        tagesRegister = re.findall('(Tagesregister:.*?)<', str(iterItem))[0]\n",
    "        #print(tagesRegister)\n",
    "        messageBody = iterItem.find('p', {'class': \"shab-message-body\"})\n",
    "        \n",
    "        \n",
    "        print(messageBody.prettify())"
   ]
  },
  {
   "cell_type": "code",
   "execution_count": null,
   "metadata": {},
   "outputs": [],
   "source": []
  }
 ],
 "metadata": {
  "kernelspec": {
   "display_name": "venv_scraping",
   "language": "python",
   "name": "venv_scraping"
  },
  "language_info": {
   "codemirror_mode": {
    "name": "ipython",
    "version": 3
   },
   "file_extension": ".py",
   "mimetype": "text/x-python",
   "name": "python",
   "nbconvert_exporter": "python",
   "pygments_lexer": "ipython3",
   "version": "3.6.10"
  }
 },
 "nbformat": 4,
 "nbformat_minor": 4
}
